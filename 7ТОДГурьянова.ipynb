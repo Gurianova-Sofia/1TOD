{
  "cells": [
    {
      "cell_type": "markdown",
      "id": "a0c18160",
      "metadata": {
        "id": "a0c18160"
      },
      "source": [
        "## Лабораторная работа №7. Разминка\n"
      ]
    },
    {
      "cell_type": "markdown",
      "id": "c1d3f80b",
      "metadata": {
        "id": "c1d3f80b"
      },
      "source": [
        "1. Считайте слова из файла litw-win.txt и запишите их в список words. В заданном предложении исправьте все опечатки, заменив слова с опечатками на ближайшие (в смысле расстояния Левенштейна) к ним слова из списка words. Считайте, что в слове есть опечатка, если данное слово не содержится в списке words.\n"
      ]
    },
    {
      "cell_type": "code",
      "execution_count": null,
      "id": "a18a99bd",
      "metadata": {
        "id": "a18a99bd",
        "outputId": "560f3e05-76cd-44bc-8f8b-f14e188d3b09"
      },
      "outputs": [
        {
          "data": {
            "text/plain": [
              "['облагодетельствованным',\n",
              " 'облагодетельствованных',\n",
              " 'председательствовавший',\n",
              " 'стадвадцатипятирублевой',\n",
              " 'высокопревосходительство',\n",
              " 'высокопревосходительства',\n",
              " 'попреблагорассмотрительст',\n",
              " 'попреблагорассмотрительствующемуся',\n",
              " 'убегающих',\n",
              " 'уменьшившейся']"
            ]
          },
          "execution_count": 12,
          "metadata": {},
          "output_type": "execute_result"
        }
      ],
      "source": [
        "from nltk.metrics.distance import edit_distance\n",
        "fname = r\"litw-win.txt\"\n",
        "words = open(fname, 'r', encoding = 'windows-1251').readlines()\n",
        "words = [word.strip().split()[-1] for word in words ]\n",
        "\n",
        "words[-10:]"
      ]
    },
    {
      "cell_type": "markdown",
      "id": "95fdc226",
      "metadata": {
        "id": "95fdc226"
      },
      "source": [
        "2. Разбейте текст из формулировки задания 1 на слова; проведите стемминг и лемматизацию слов.\n"
      ]
    },
    {
      "cell_type": "code",
      "execution_count": null,
      "id": "1fa4f5f1",
      "metadata": {
        "id": "1fa4f5f1",
        "outputId": "ad9e2a82-5698-479f-bb1a-d487adef3d97"
      },
      "outputs": [
        {
          "name": "stderr",
          "output_type": "stream",
          "text": [
            "[nltk_data] Downloading package punkt to\n",
            "[nltk_data]     C:\\Users\\222697\\AppData\\Roaming\\nltk_data...\n",
            "[nltk_data]   Package punkt is already up-to-date!\n"
          ]
        },
        {
          "data": {
            "text/plain": [
              "[',', 'есл', 'дан', 'слов', 'не', 'содерж', 'в', 'списк', 'words', '.']"
            ]
          },
          "execution_count": 20,
          "metadata": {},
          "output_type": "execute_result"
        }
      ],
      "source": [
        "import nltk\n",
        "import snowballstemmer\n",
        "text = 'Считайте слова из файла litw-win.txt и запишите их в список words. В заданном предложении исправьте все опечатки, заменив слова с опечатками на ближайшие (в смысле расстояния Левенштейна) к ним слова из списка words. Считайте, что в слове есть опечатка, если данное слово не содержится в списке words.'\n",
        "nltk.download('punkt')\n",
        "from nltk import word_tokenize,sent_tokenize\n",
        "words = word_tokenize(text)\n",
        "stemmer = snowballstemmer.stemmer('russian')\n",
        "stemmer_list = []\n",
        "for i in range(len(words)):\n",
        "    stemmer_list.append(stemmer.stemWord(words[i]))\n",
        "stemmer_list[-10:]"
      ]
    },
    {
      "cell_type": "markdown",
      "id": "c40dcacc",
      "metadata": {
        "id": "c40dcacc"
      },
      "source": [
        "3. Преобразуйте предложения из формулировки задания 1 в векторы при помощи CountVectorizer.\n"
      ]
    },
    {
      "cell_type": "code",
      "execution_count": null,
      "id": "7a6c91f9",
      "metadata": {
        "id": "7a6c91f9",
        "outputId": "e0e39f8e-244e-49e7-e4fd-7fab18663cb1"
      },
      "outputs": [
        {
          "name": "stdout",
          "output_type": "stream",
          "text": [
            "{'считайте': 32, 'слова': 24, 'из': 12, 'файла': 33, 'litw': 0, 'win': 2, 'txt': 1, 'запишите': 11, 'их': 14, 'список': 31, 'words': 3, 'заданном': 9, 'предложении': 22, 'исправьте': 13, 'все': 5, 'опечатки': 21, 'заменив': 10, 'опечатками': 20, 'на': 16, 'ближайшие': 4, 'смысле': 27, 'расстояния': 23, 'левенштейна': 15, 'ним': 18, 'списка': 29, 'что': 34, 'слове': 25, 'есть': 8, 'опечатка': 19, 'если': 7, 'данное': 6, 'слово': 26, 'не': 17, 'содержится': 28, 'списке': 30}\n",
            "(1, 35)\n",
            "[1 1 1 3 1 1 1 1 1 1 1 1 2 1 1 1 1 1 1 1 1 1 1 1 3 1 1 1 1 1 1 1 2 1 1]\n"
          ]
        }
      ],
      "source": [
        "from sklearn.feature_extraction.text import CountVectorizer\n",
        "text = [\"Считайте слова из файла litw-win.txt и запишите их в список words. В заданном предложении исправьте все опечатки, заменив слова с опечатками на ближайшие (в смысле расстояния Левенштейна) к ним слова из списка words. Считайте, что в слове есть опечатка, если данное слово не содержится в списке words.\"]\n",
        "vectorizer = CountVectorizer()\n",
        "vectorizer.fit(text)\n",
        "print(vectorizer.vocabulary_)\n",
        "vector = vectorizer.transform(text)\n",
        "print(vector.shape)\n",
        "print(*vector.toarray())"
      ]
    }
  ],
  "metadata": {
    "kernelspec": {
      "display_name": "Python 3 (ipykernel)",
      "language": "python",
      "name": "python3"
    },
    "language_info": {
      "codemirror_mode": {
        "name": "ipython",
        "version": 3
      },
      "file_extension": ".py",
      "mimetype": "text/x-python",
      "name": "python",
      "nbconvert_exporter": "python",
      "pygments_lexer": "ipython3",
      "version": "3.9.7"
    },
    "colab": {
      "provenance": []
    }
  },
  "nbformat": 4,
  "nbformat_minor": 5
}